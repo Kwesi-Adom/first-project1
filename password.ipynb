{
 "cells": [
  {
   "cell_type": "code",
   "execution_count": 1,
   "metadata": {},
   "outputs": [
    {
     "name": "stdout",
     "output_type": "stream",
     "text": [
      "wrong password 3 attempts remaining\n",
      "wrong password 2 attempts remaining\n",
      "wrong password 1 attempts remaining\n",
      "wrong password 0 attempts remaining\n",
      "your phone is locked,try again after one minute\n",
      "correct password\n"
     ]
    }
   ],
   "source": [
    "from time import sleep\n",
    "maximum_attempts = 4\n",
    "after_one_minute = 0\n",
    "for i in range(maximum_attempts):\n",
    "    password = \"1234\"\n",
    "    number = input(\"enter any number\")\n",
    "\n",
    "    if number == password:\n",
    "        print(\"correct password\")\n",
    "        break \n",
    "    else:\n",
    "        maximum_attempts = maximum_attempts - 1\n",
    "        print(\"wrong password\", maximum_attempts, \"attempts remaining\")\n",
    "        if maximum_attempts == 0:\n",
    "            after_one_minute = 60\n",
    "            print(\"your phone is locked,try again after one minute\")\n",
    "            sleep(after_one_minute)\n",
    "            #break\n",
    "maximum_attempts = 4       \n",
    "for i in range(maximum_attempts):\n",
    "    password = \"1234\"\n",
    "    number = input(\"enter any number\")\n",
    "\n",
    "    if number == password:\n",
    "        print(\"correct password\")\n",
    "        break \n",
    "    else:\n",
    "        maximum_attempts = maximum_attempts - 1\n",
    "        print(\"wrong password\", maximum_attempts, \"attempts remaining\")\n",
    "        if maximum_attempts == 0:\n",
    "            after_one_minute = 60\n",
    "            print(\"your phone is locked\")\n",
    "            break\n",
    "           \n",
    "        "
   ]
  },
  {
   "cell_type": "code",
   "execution_count": 33,
   "metadata": {},
   "outputs": [
    {
     "name": "stdout",
     "output_type": "stream",
     "text": [
      "incorrect, try again 5\n",
      "incorrect, try again 4\n",
      "incorrect, try again 3\n",
      "good\n"
     ]
    }
   ],
   "source": [
    "maximum_attempts = 6\n",
    "for i in range(maximum_attempts):\n",
    "    password = \"2345\"\n",
    "    number = input(\"enter a number\")\n",
    "\n",
    "    if number == password:\n",
    "        print(\"good\") \n",
    "        break\n",
    "    else:\n",
    "        maximum_attempts = maximum_attempts - 1\n",
    "        print(\"incorrect, try again\", maximum_attempts)"
   ]
  }
 ],
 "metadata": {
  "kernelspec": {
   "display_name": ".venv",
   "language": "python",
   "name": "python3"
  },
  "language_info": {
   "codemirror_mode": {
    "name": "ipython",
    "version": 3
   },
   "file_extension": ".py",
   "mimetype": "text/x-python",
   "name": "python",
   "nbconvert_exporter": "python",
   "pygments_lexer": "ipython3",
   "version": "3.12.5"
  }
 },
 "nbformat": 4,
 "nbformat_minor": 2
}
